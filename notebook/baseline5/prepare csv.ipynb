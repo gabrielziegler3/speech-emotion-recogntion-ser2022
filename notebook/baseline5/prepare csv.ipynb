{
 "cells": [
  {
   "cell_type": "code",
   "execution_count": null,
   "metadata": {},
   "outputs": [],
   "source": [
    "# TODO Não precisa fazer resample, pois dataset já é 16kHZ!"
   ]
  },
  {
   "cell_type": "code",
   "execution_count": 27,
   "metadata": {},
   "outputs": [],
   "source": [
    "import pandas as pd\n",
    "import glob\n",
    "import torchaudio\n",
    "import re\n",
    "SAMPLE_RATE=16000"
   ]
  },
  {
   "cell_type": "code",
   "execution_count": 2,
   "metadata": {},
   "outputs": [],
   "source": [
    "# https://github.com/rmarcacini/ser-coraa-pt-br/ to urbansounds"
   ]
  },
  {
   "cell_type": "markdown",
   "metadata": {},
   "source": [
    "\n",
    "Meta-data Files Included\n",
    "------------------------\n",
    "\n",
    "UrbanSound8k.csv\n",
    "\n",
    "This file contains meta-data information about every audio file in the dataset. This includes:  \n",
    "\n",
    "* slice_file_name:  \n",
    "The name of the audio file. The name takes the following format: [fsID]-[classID]-[occurrenceID]-[sliceID].wav, where:  \n",
    "[fsID] = the Freesound ID of the recording from which this excerpt (slice) is taken      \n",
    "[classID] = a numeric identifier of the sound class (see description of classID below for further details)  \n",
    "[occurrenceID] = a numeric identifier to distinguish different occurrences of the sound within the original recording  \n",
    "[sliceID] = a numeric identifier to distinguish different slices taken from the same occurrence  \n",
    "\n",
    "* fsID:\n",
    "The Freesound ID of the recording from which this excerpt (slice) is taken  \n",
    "\n",
    "* start\n",
    "The start time of the slice in the original Freesound recording  \n",
    "\n",
    "* end:\n",
    "The end time of slice in the original Freesound recording  \n",
    "\n",
    "* salience:\n",
    "A (subjective) salience rating of the sound. 1 = foreground, 2 = background.  \n",
    "\n",
    "* fold:\n",
    "The fold number (1-10) to which this file has been allocated.  \n",
    "\n",
    "* classID:  \n",
    "A numeric identifier of the sound class:  \n",
    "0 = air_conditioner  \n",
    "1 = car_horn  \n",
    "2 = children_playing  \n",
    "3 = dog_bark  \n",
    "4 = drilling  \n",
    "5 = engine_idling  \n",
    "6 = gun_shot  \n",
    "7 = jackhammer  \n",
    "8 = siren  \n",
    "9 = street_music  \n",
    "\n",
    "* class:\n",
    "The class name: air_conditioner, car_horn, children_playing, dog_bark, drilling, engine_idling, gun_shot, jackhammer,\n",
    "siren, street_music.  \n",
    "\n"
   ]
  },
  {
   "cell_type": "code",
   "execution_count": 3,
   "metadata": {},
   "outputs": [],
   "source": [
    "# Todo criar Pasta no formato urban sound\n",
    "# Criar CSv com metadados"
   ]
  },
  {
   "cell_type": "code",
   "execution_count": 28,
   "metadata": {},
   "outputs": [],
   "source": [
    "audios = glob.glob('../../data/train/*.wav')"
   ]
  },
  {
   "cell_type": "code",
   "execution_count": 29,
   "metadata": {},
   "outputs": [],
   "source": [
    "df = pd.DataFrame()"
   ]
  },
  {
   "cell_type": "code",
   "execution_count": 30,
   "metadata": {},
   "outputs": [
    {
     "name": "stdout",
     "output_type": "stream",
     "text": [
      "../../data/train/bfamcv01_segment163_neutral.wav\n",
      "pattern: .*train/(?P<sess_id>.*)_(?P<utt_id>.*)_(?P<class>.*).wav\n"
     ]
    }
   ],
   "source": [
    "str_exemple = audios[0]\n",
    "print(str_exemple)\n",
    "pattern = \".*train/(?P<sess_id>.*)_(?P<utt_id>.*)_(?P<class>.*).wav\"\n",
    "print('pattern:',pattern)"
   ]
  },
  {
   "cell_type": "code",
   "execution_count": 31,
   "metadata": {},
   "outputs": [
    {
     "data": {
      "text/html": [
       "<div>\n",
       "<style scoped>\n",
       "    .dataframe tbody tr th:only-of-type {\n",
       "        vertical-align: middle;\n",
       "    }\n",
       "\n",
       "    .dataframe tbody tr th {\n",
       "        vertical-align: top;\n",
       "    }\n",
       "\n",
       "    .dataframe thead th {\n",
       "        text-align: right;\n",
       "    }\n",
       "</style>\n",
       "<table border=\"1\" class=\"dataframe\">\n",
       "  <thead>\n",
       "    <tr style=\"text-align: right;\">\n",
       "      <th></th>\n",
       "      <th>audio</th>\n",
       "      <th>sess_id</th>\n",
       "      <th>utt_id</th>\n",
       "      <th>class</th>\n",
       "    </tr>\n",
       "  </thead>\n",
       "  <tbody>\n",
       "    <tr>\n",
       "      <th>0</th>\n",
       "      <td>../../data/train/bfamcv01_segment163_neutral.wav</td>\n",
       "      <td>bfamcv01</td>\n",
       "      <td>segment163</td>\n",
       "      <td>neutral</td>\n",
       "    </tr>\n",
       "  </tbody>\n",
       "</table>\n",
       "</div>"
      ],
      "text/plain": [
       "                                              audio   sess_id      utt_id  \\\n",
       "0  ../../data/train/bfamcv01_segment163_neutral.wav  bfamcv01  segment163   \n",
       "\n",
       "     class  \n",
       "0  neutral  "
      ]
     },
     "execution_count": 31,
     "metadata": {},
     "output_type": "execute_result"
    }
   ],
   "source": [
    "df = pd.DataFrame({'audio' : audios})\n",
    "df = pd.concat([df,df.audio.str.extract(pattern)], axis = 1)\n",
    "df.head(1)"
   ]
  },
  {
   "cell_type": "code",
   "execution_count": 33,
   "metadata": {},
   "outputs": [],
   "source": [
    "map_sess_id = {j: i for i,j in enumerate(df.sess_id.unique())}\n",
    "map_class = {j: i for i,j in enumerate(df['class'].unique())}"
   ]
  },
  {
   "cell_type": "code",
   "execution_count": 34,
   "metadata": {},
   "outputs": [
    {
     "name": "stdout",
     "output_type": "stream",
     "text": [
      "{'neutral': 0, 'non-neutral-male': 1, 'non-neutral-female': 2}\n"
     ]
    }
   ],
   "source": [
    "print(map_class)"
   ]
  },
  {
   "cell_type": "code",
   "execution_count": 35,
   "metadata": {},
   "outputs": [],
   "source": [
    "df['fsID'] = df['sess_id'].map(map_sess_id)\n",
    "df['classID'] = df['class'].map(map_class)\n",
    "df['occurrenceID'] = df['utt_id'].apply(lambda x: x.split('segment')[1])\n",
    "df['sliceID'] = 0\n",
    "df['salience'] = 1"
   ]
  },
  {
   "cell_type": "code",
   "execution_count": 39,
   "metadata": {},
   "outputs": [],
   "source": [
    "df['slice_file_name'] = df.apply(lambda row:  f\"{row['fsID']}-{row['classID']}-{row['occurrenceID']}-{row['sliceID']}.wav\"\n",
    "                                 , axis = 1)"
   ]
  },
  {
   "cell_type": "code",
   "execution_count": 41,
   "metadata": {},
   "outputs": [],
   "source": [
    "df['start'] = 0\n",
    "df['stop'] = df.audio.apply(lambda x: torchaudio.load(x)[0].shape[1])\n",
    "df['end'] = df.stop.apply(lambda x: x/SAMPLE_RATE).astype(str)"
   ]
  },
  {
   "cell_type": "code",
   "execution_count": 117,
   "metadata": {},
   "outputs": [
    {
     "name": "stdout",
     "output_type": "stream",
     "text": [
      "neutral               50\n",
      "non-neutral-female     9\n",
      "non-neutral-male       4\n",
      "Name: class, dtype: int64\n",
      "neutral               49\n",
      "non-neutral-female     9\n",
      "non-neutral-male       5\n",
      "Name: class, dtype: int64\n",
      "neutral               49\n",
      "non-neutral-female     9\n",
      "non-neutral-male       5\n",
      "Name: class, dtype: int64\n",
      "neutral               49\n",
      "non-neutral-female     9\n",
      "non-neutral-male       5\n",
      "Name: class, dtype: int64\n",
      "neutral               49\n",
      "non-neutral-female     9\n",
      "non-neutral-male       5\n",
      "Name: class, dtype: int64\n",
      "neutral               49\n",
      "non-neutral-female     8\n",
      "non-neutral-male       5\n",
      "Name: class, dtype: int64\n",
      "neutral               49\n",
      "non-neutral-female     9\n",
      "non-neutral-male       4\n",
      "Name: class, dtype: int64\n",
      "neutral               49\n",
      "non-neutral-female     9\n",
      "non-neutral-male       4\n",
      "Name: class, dtype: int64\n",
      "neutral               49\n",
      "non-neutral-female     9\n",
      "non-neutral-male       4\n",
      "Name: class, dtype: int64\n",
      "neutral               49\n",
      "non-neutral-female     9\n",
      "non-neutral-male       4\n",
      "Name: class, dtype: int64\n"
     ]
    },
    {
     "name": "stderr",
     "output_type": "stream",
     "text": [
      "/home/victor/anaconda3/envs/torchaudio/lib/python3.8/site-packages/sklearn/model_selection/_split.py:293: FutureWarning: Setting a random_state has no effect since shuffle is False. This will raise an error in 0.24. You should leave random_state to its default (None), or set shuffle=True.\n",
      "  warnings.warn(\n"
     ]
    }
   ],
   "source": [
    "import numpy as np\n",
    "from sklearn.model_selection import StratifiedKFold \n",
    "X = df\n",
    "y = df.classID\n",
    "\n",
    "sss = StratifiedKFold(n_splits=10, random_state=0)\n",
    "sss.get_n_splits(X, y)\n",
    "\n",
    "df['fold'] = 'NA'\n",
    "i = 1\n",
    "for train_index, test_index in sss.split(X, y):\n",
    "    #print(\"TRAIN:\", train_index, \"TEST:\", test_index)\n",
    "    df.loc[test_index, 'fold'] = i\n",
    "    print(df.loc[test_index]['class'].value_counts())\n",
    "    i=i+1"
   ]
  },
  {
   "cell_type": "code",
   "execution_count": 118,
   "metadata": {},
   "outputs": [
    {
     "data": {
      "text/plain": [
       "5     63\n",
       "4     63\n",
       "3     63\n",
       "2     63\n",
       "1     63\n",
       "10    62\n",
       "9     62\n",
       "8     62\n",
       "7     62\n",
       "6     62\n",
       "Name: fold, dtype: int64"
      ]
     },
     "execution_count": 118,
     "metadata": {},
     "output_type": "execute_result"
    }
   ],
   "source": [
    "df.fold.value_counts()"
   ]
  },
  {
   "cell_type": "code",
   "execution_count": null,
   "metadata": {},
   "outputs": [],
   "source": [
    "# Fodo function that copy files to urband sound format and the metadata csv"
   ]
  },
  {
   "cell_type": "code",
   "execution_count": 104,
   "metadata": {},
   "outputs": [],
   "source": [
    "df_metadata = df[['slice_file_name','fsID','start','end','salience','fold','classID','class']]"
   ]
  }
 ],
 "metadata": {
  "kernelspec": {
   "display_name": "torchaudio",
   "language": "python",
   "name": "torchaudio"
  },
  "language_info": {
   "codemirror_mode": {
    "name": "ipython",
    "version": 3
   },
   "file_extension": ".py",
   "mimetype": "text/x-python",
   "name": "python",
   "nbconvert_exporter": "python",
   "pygments_lexer": "ipython3",
   "version": "3.8.3"
  }
 },
 "nbformat": 4,
 "nbformat_minor": 4
}
