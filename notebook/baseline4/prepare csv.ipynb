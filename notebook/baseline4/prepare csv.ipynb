{
 "cells": [
  {
   "cell_type": "code",
   "execution_count": 47,
   "metadata": {},
   "outputs": [],
   "source": [
    "import pandas as pd\n",
    "import glob\n",
    "import torchaudio\n",
    "import re\n",
    "SAMPLE_RATE=16000"
   ]
  },
  {
   "cell_type": "code",
   "execution_count": 14,
   "metadata": {},
   "outputs": [],
   "source": [
    "audios = glob.glob('../../data/train/*.wav')"
   ]
  },
  {
   "cell_type": "code",
   "execution_count": 10,
   "metadata": {},
   "outputs": [],
   "source": [
    "df = pd.DataFrame()"
   ]
  },
  {
   "cell_type": "code",
   "execution_count": 58,
   "metadata": {},
   "outputs": [
    {
     "name": "stdout",
     "output_type": "stream",
     "text": [
      "../../data/train/bfamcv01_segment163_neutral.wav\n",
      "pattern: .*train/(?P<sess_id>.*)_(?P<utt_id>.*)_(?P<spk_id>.*).wav\n"
     ]
    }
   ],
   "source": [
    "str_exemple = audios[0]\n",
    "print(str_exemple)\n",
    "pattern = \".*train/(?P<sess_id>.*)_(?P<utt_id>.*)_(?P<spk_id>.*).wav\"\n",
    "print('pattern:',pattern)"
   ]
  },
  {
   "cell_type": "code",
   "execution_count": 101,
   "metadata": {},
   "outputs": [
    {
     "data": {
      "text/html": [
       "<div>\n",
       "<style scoped>\n",
       "    .dataframe tbody tr th:only-of-type {\n",
       "        vertical-align: middle;\n",
       "    }\n",
       "\n",
       "    .dataframe tbody tr th {\n",
       "        vertical-align: top;\n",
       "    }\n",
       "\n",
       "    .dataframe thead th {\n",
       "        text-align: right;\n",
       "    }\n",
       "</style>\n",
       "<table border=\"1\" class=\"dataframe\">\n",
       "  <thead>\n",
       "    <tr style=\"text-align: right;\">\n",
       "      <th></th>\n",
       "      <th>audio</th>\n",
       "      <th>sess_id</th>\n",
       "      <th>utt_id</th>\n",
       "      <th>spk_id</th>\n",
       "    </tr>\n",
       "  </thead>\n",
       "  <tbody>\n",
       "    <tr>\n",
       "      <th>0</th>\n",
       "      <td>../../data/train/bfamcv01_segment163_neutral.wav</td>\n",
       "      <td>bfamcv01</td>\n",
       "      <td>segment163</td>\n",
       "      <td>neutral</td>\n",
       "    </tr>\n",
       "  </tbody>\n",
       "</table>\n",
       "</div>"
      ],
      "text/plain": [
       "                                              audio   sess_id      utt_id  \\\n",
       "0  ../../data/train/bfamcv01_segment163_neutral.wav  bfamcv01  segment163   \n",
       "\n",
       "    spk_id  \n",
       "0  neutral  "
      ]
     },
     "execution_count": 101,
     "metadata": {},
     "output_type": "execute_result"
    }
   ],
   "source": [
    "df = pd.DataFrame({'audio' : audios})\n",
    "df = pd.concat([df,df.audio.str.extract(pattern)], axis = 1)\n",
    "df.head(1)"
   ]
  },
  {
   "cell_type": "code",
   "execution_count": 103,
   "metadata": {},
   "outputs": [],
   "source": [
    "df['ID'] = df.apply(lambda row: \"--\".join([row.spk_id, row.sess_id, row.utt_id]) , axis = 1)\n",
    "df['start'] = 0\n",
    "df['stop'] = df.audio.apply(lambda x: torchaudio.load(x)[0].shape[1])\n",
    "df['duration'] = df.stop.apply(lambda x: x/SAMPLE_RATE).astype(str)\n",
    "df['wav'] = df.audio"
   ]
  },
  {
   "cell_type": "code",
   "execution_count": 104,
   "metadata": {},
   "outputs": [],
   "source": [
    "df = df[[\"ID\", \"duration\", \"wav\", \"start\", \"stop\", \"spk_id\"]]"
   ]
  },
  {
   "cell_type": "code",
   "execution_count": 105,
   "metadata": {},
   "outputs": [
    {
     "data": {
      "text/html": [
       "<div>\n",
       "<style scoped>\n",
       "    .dataframe tbody tr th:only-of-type {\n",
       "        vertical-align: middle;\n",
       "    }\n",
       "\n",
       "    .dataframe tbody tr th {\n",
       "        vertical-align: top;\n",
       "    }\n",
       "\n",
       "    .dataframe thead th {\n",
       "        text-align: right;\n",
       "    }\n",
       "</style>\n",
       "<table border=\"1\" class=\"dataframe\">\n",
       "  <thead>\n",
       "    <tr style=\"text-align: right;\">\n",
       "      <th></th>\n",
       "      <th>ID</th>\n",
       "      <th>duration</th>\n",
       "      <th>wav</th>\n",
       "      <th>start</th>\n",
       "      <th>stop</th>\n",
       "      <th>spk_id</th>\n",
       "    </tr>\n",
       "  </thead>\n",
       "  <tbody>\n",
       "    <tr>\n",
       "      <th>0</th>\n",
       "      <td>neutral--bfamcv01--segment163</td>\n",
       "      <td>5.791</td>\n",
       "      <td>../../data/train/bfamcv01_segment163_neutral.wav</td>\n",
       "      <td>0</td>\n",
       "      <td>92656</td>\n",
       "      <td>neutral</td>\n",
       "    </tr>\n",
       "    <tr>\n",
       "      <th>1</th>\n",
       "      <td>non-neutral-male--bfamcv01--segment168</td>\n",
       "      <td>4.704</td>\n",
       "      <td>../../data/train/bfamcv01_segment168_non-neutr...</td>\n",
       "      <td>0</td>\n",
       "      <td>75264</td>\n",
       "      <td>non-neutral-male</td>\n",
       "    </tr>\n",
       "    <tr>\n",
       "      <th>2</th>\n",
       "      <td>non-neutral-male--bfamcv01--segment170</td>\n",
       "      <td>2.027</td>\n",
       "      <td>../../data/train/bfamcv01_segment170_non-neutr...</td>\n",
       "      <td>0</td>\n",
       "      <td>32432</td>\n",
       "      <td>non-neutral-male</td>\n",
       "    </tr>\n",
       "    <tr>\n",
       "      <th>3</th>\n",
       "      <td>neutral--bfamcv01--segment173</td>\n",
       "      <td>2.524</td>\n",
       "      <td>../../data/train/bfamcv01_segment173_neutral.wav</td>\n",
       "      <td>0</td>\n",
       "      <td>40384</td>\n",
       "      <td>neutral</td>\n",
       "    </tr>\n",
       "    <tr>\n",
       "      <th>4</th>\n",
       "      <td>neutral--bfamcv01--segment177</td>\n",
       "      <td>3.316</td>\n",
       "      <td>../../data/train/bfamcv01_segment177_neutral.wav</td>\n",
       "      <td>0</td>\n",
       "      <td>53056</td>\n",
       "      <td>neutral</td>\n",
       "    </tr>\n",
       "    <tr>\n",
       "      <th>...</th>\n",
       "      <td>...</td>\n",
       "      <td>...</td>\n",
       "      <td>...</td>\n",
       "      <td>...</td>\n",
       "      <td>...</td>\n",
       "      <td>...</td>\n",
       "    </tr>\n",
       "    <tr>\n",
       "      <th>620</th>\n",
       "      <td>neutral--bpubmn14--segment87</td>\n",
       "      <td>3.676</td>\n",
       "      <td>../../data/train/bpubmn14_segment87_neutral.wav</td>\n",
       "      <td>0</td>\n",
       "      <td>58816</td>\n",
       "      <td>neutral</td>\n",
       "    </tr>\n",
       "    <tr>\n",
       "      <th>621</th>\n",
       "      <td>neutral--bpubmn14--segment89</td>\n",
       "      <td>10.376</td>\n",
       "      <td>../../data/train/bpubmn14_segment89_neutral.wav</td>\n",
       "      <td>0</td>\n",
       "      <td>166016</td>\n",
       "      <td>neutral</td>\n",
       "    </tr>\n",
       "    <tr>\n",
       "      <th>622</th>\n",
       "      <td>neutral--bpubmn14--segment92</td>\n",
       "      <td>3.177</td>\n",
       "      <td>../../data/train/bpubmn14_segment92_neutral.wav</td>\n",
       "      <td>0</td>\n",
       "      <td>50832</td>\n",
       "      <td>neutral</td>\n",
       "    </tr>\n",
       "    <tr>\n",
       "      <th>623</th>\n",
       "      <td>neutral--bpubmn14--segment95</td>\n",
       "      <td>8.254</td>\n",
       "      <td>../../data/train/bpubmn14_segment95_neutral.wav</td>\n",
       "      <td>0</td>\n",
       "      <td>132064</td>\n",
       "      <td>neutral</td>\n",
       "    </tr>\n",
       "    <tr>\n",
       "      <th>624</th>\n",
       "      <td>neutral--bpubmn14--segment98</td>\n",
       "      <td>5.607</td>\n",
       "      <td>../../data/train/bpubmn14_segment98_neutral.wav</td>\n",
       "      <td>0</td>\n",
       "      <td>89712</td>\n",
       "      <td>neutral</td>\n",
       "    </tr>\n",
       "  </tbody>\n",
       "</table>\n",
       "<p>625 rows × 6 columns</p>\n",
       "</div>"
      ],
      "text/plain": [
       "                                         ID duration  \\\n",
       "0             neutral--bfamcv01--segment163    5.791   \n",
       "1    non-neutral-male--bfamcv01--segment168    4.704   \n",
       "2    non-neutral-male--bfamcv01--segment170    2.027   \n",
       "3             neutral--bfamcv01--segment173    2.524   \n",
       "4             neutral--bfamcv01--segment177    3.316   \n",
       "..                                      ...      ...   \n",
       "620            neutral--bpubmn14--segment87    3.676   \n",
       "621            neutral--bpubmn14--segment89   10.376   \n",
       "622            neutral--bpubmn14--segment92    3.177   \n",
       "623            neutral--bpubmn14--segment95    8.254   \n",
       "624            neutral--bpubmn14--segment98    5.607   \n",
       "\n",
       "                                                   wav  start    stop  \\\n",
       "0     ../../data/train/bfamcv01_segment163_neutral.wav      0   92656   \n",
       "1    ../../data/train/bfamcv01_segment168_non-neutr...      0   75264   \n",
       "2    ../../data/train/bfamcv01_segment170_non-neutr...      0   32432   \n",
       "3     ../../data/train/bfamcv01_segment173_neutral.wav      0   40384   \n",
       "4     ../../data/train/bfamcv01_segment177_neutral.wav      0   53056   \n",
       "..                                                 ...    ...     ...   \n",
       "620    ../../data/train/bpubmn14_segment87_neutral.wav      0   58816   \n",
       "621    ../../data/train/bpubmn14_segment89_neutral.wav      0  166016   \n",
       "622    ../../data/train/bpubmn14_segment92_neutral.wav      0   50832   \n",
       "623    ../../data/train/bpubmn14_segment95_neutral.wav      0  132064   \n",
       "624    ../../data/train/bpubmn14_segment98_neutral.wav      0   89712   \n",
       "\n",
       "               spk_id  \n",
       "0             neutral  \n",
       "1    non-neutral-male  \n",
       "2    non-neutral-male  \n",
       "3             neutral  \n",
       "4             neutral  \n",
       "..                ...  \n",
       "620           neutral  \n",
       "621           neutral  \n",
       "622           neutral  \n",
       "623           neutral  \n",
       "624           neutral  \n",
       "\n",
       "[625 rows x 6 columns]"
      ]
     },
     "execution_count": 105,
     "metadata": {},
     "output_type": "execute_result"
    }
   ],
   "source": [
    "df"
   ]
  },
  {
   "cell_type": "code",
   "execution_count": 117,
   "metadata": {},
   "outputs": [],
   "source": [
    "from sklearn.model_selection import train_test_split\n",
    "train, dev, y_train, y_dev = train_test_split(\n",
    "                        df, df.spk_id, \n",
    "                        test_size=0.1, \n",
    "                        random_state=42)"
   ]
  },
  {
   "cell_type": "code",
   "execution_count": 119,
   "metadata": {},
   "outputs": [],
   "source": [
    "train.to_csv('train.csv', index=False)\n",
    "dev.to_csv('dev.csv', index=False)"
   ]
  }
 ],
 "metadata": {
  "kernelspec": {
   "display_name": "torchaudio",
   "language": "python",
   "name": "torchaudio"
  },
  "language_info": {
   "codemirror_mode": {
    "name": "ipython",
    "version": 3
   },
   "file_extension": ".py",
   "mimetype": "text/x-python",
   "name": "python",
   "nbconvert_exporter": "python",
   "pygments_lexer": "ipython3",
   "version": "3.8.3"
  }
 },
 "nbformat": 4,
 "nbformat_minor": 4
}
